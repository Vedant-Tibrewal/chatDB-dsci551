{
 "cells": [
  {
   "cell_type": "code",
   "execution_count": 2,
   "metadata": {},
   "outputs": [],
   "source": [
    "import numpy as np\n",
    "import pandas as pd\n",
    "import json"
   ]
  },
  {
   "cell_type": "code",
   "execution_count": 24,
   "metadata": {},
   "outputs": [],
   "source": [
    "import json\n",
    "\n",
    "def spider_json_to_pandas(file_path):\n",
    "    # Read the JSON file\n",
    "    with open(file_path, 'r', encoding='utf-8') as file:\n",
    "        data = json.load(file)\n",
    "    \n",
    "    # Convert each JSON object in the array\n",
    "    converted_data = []\n",
    "    for item in data:\n",
    "        converted_item = {\n",
    "            'db_id': item['db_id'],\n",
    "            'query': item['query'],\n",
    "            'question': item['question'],\n",
    "            # 'sql_structure': {\n",
    "            #     'from': item['sql']['from'],\n",
    "            #     'select': item['sql']['select'],\n",
    "            #     'where': item['sql']['where'],\n",
    "            #     'groupBy': item['sql']['groupBy'],\n",
    "            #     'having': item['sql']['having'],\n",
    "            #     'orderBy': item['sql']['orderBy'],\n",
    "            #     'limit': item['sql']['limit'],\n",
    "            #     'intersect': item['sql']['intersect'],\n",
    "            #     'union': item['sql']['union'],\n",
    "            #     'except': item['sql']['except']\n",
    "            # }\n",
    "        }\n",
    "        converted_data.append(converted_item)\n",
    "    \n",
    "    columns = ['db_id',\n",
    "            'query',\n",
    "            'question',\n",
    "            #     'from',\n",
    "            #     'select',\n",
    "            #     'where',\n",
    "            #     'groupBy',\n",
    "            #     'having',\n",
    "            #     'orderBy',\n",
    "            #     'limit',\n",
    "            #     'intersect',\n",
    "            #     'union',\n",
    "            #     'except',\n",
    "            ]\n",
    "    \n",
    "    dataset = pd.DataFrame(converted_data, columns=columns)\n",
    "\n",
    "    return dataset"
   ]
  },
  {
   "cell_type": "markdown",
   "metadata": {},
   "source": [
    "## Train"
   ]
  },
  {
   "cell_type": "code",
   "execution_count": null,
   "metadata": {},
   "outputs": [
    {
     "data": {
      "text/html": [
       "<div>\n",
       "<style scoped>\n",
       "    .dataframe tbody tr th:only-of-type {\n",
       "        vertical-align: middle;\n",
       "    }\n",
       "\n",
       "    .dataframe tbody tr th {\n",
       "        vertical-align: top;\n",
       "    }\n",
       "\n",
       "    .dataframe thead th {\n",
       "        text-align: right;\n",
       "    }\n",
       "</style>\n",
       "<table border=\"1\" class=\"dataframe\">\n",
       "  <thead>\n",
       "    <tr style=\"text-align: right;\">\n",
       "      <th></th>\n",
       "      <th>db_id</th>\n",
       "      <th>query</th>\n",
       "      <th>question</th>\n",
       "    </tr>\n",
       "  </thead>\n",
       "  <tbody>\n",
       "    <tr>\n",
       "      <th>0</th>\n",
       "      <td>geo</td>\n",
       "      <td>SELECT city_name FROM city WHERE population  =...</td>\n",
       "      <td>what is the biggest city in wyoming</td>\n",
       "    </tr>\n",
       "    <tr>\n",
       "      <th>1</th>\n",
       "      <td>geo</td>\n",
       "      <td>SELECT city_name FROM city WHERE population  =...</td>\n",
       "      <td>what wyoming city has the largest population</td>\n",
       "    </tr>\n",
       "    <tr>\n",
       "      <th>2</th>\n",
       "      <td>geo</td>\n",
       "      <td>SELECT city_name FROM city WHERE population  =...</td>\n",
       "      <td>what is the largest city in wyoming</td>\n",
       "    </tr>\n",
       "    <tr>\n",
       "      <th>3</th>\n",
       "      <td>geo</td>\n",
       "      <td>SELECT city_name FROM city WHERE population  =...</td>\n",
       "      <td>where is the most populated area of wyoming</td>\n",
       "    </tr>\n",
       "    <tr>\n",
       "      <th>4</th>\n",
       "      <td>geo</td>\n",
       "      <td>SELECT city_name FROM city WHERE population  =...</td>\n",
       "      <td>which city in wyoming has the largest population</td>\n",
       "    </tr>\n",
       "  </tbody>\n",
       "</table>\n",
       "</div>"
      ],
      "text/plain": [
       "  db_id                                              query  \\\n",
       "0   geo  SELECT city_name FROM city WHERE population  =...   \n",
       "1   geo  SELECT city_name FROM city WHERE population  =...   \n",
       "2   geo  SELECT city_name FROM city WHERE population  =...   \n",
       "3   geo  SELECT city_name FROM city WHERE population  =...   \n",
       "4   geo  SELECT city_name FROM city WHERE population  =...   \n",
       "\n",
       "                                           question  \n",
       "0               what is the biggest city in wyoming  \n",
       "1      what wyoming city has the largest population  \n",
       "2               what is the largest city in wyoming  \n",
       "3       where is the most populated area of wyoming  \n",
       "4  which city in wyoming has the largest population  "
      ]
     },
     "execution_count": 25,
     "metadata": {},
     "output_type": "execute_result"
    }
   ],
   "source": [
    "file_path = '/Users/vedanttibrewal/Documents/USC/lectures/sem_1/DSCI-551/project/chatDB-dsci551/dataset/train_others.json'\n",
    "spider_train_other = spider_json_to_pandas(file_path)\n",
    "\n",
    "spider_train_other.head()"
   ]
  },
  {
   "cell_type": "code",
   "execution_count": 26,
   "metadata": {},
   "outputs": [
    {
     "data": {
      "text/html": [
       "<div>\n",
       "<style scoped>\n",
       "    .dataframe tbody tr th:only-of-type {\n",
       "        vertical-align: middle;\n",
       "    }\n",
       "\n",
       "    .dataframe tbody tr th {\n",
       "        vertical-align: top;\n",
       "    }\n",
       "\n",
       "    .dataframe thead th {\n",
       "        text-align: right;\n",
       "    }\n",
       "</style>\n",
       "<table border=\"1\" class=\"dataframe\">\n",
       "  <thead>\n",
       "    <tr style=\"text-align: right;\">\n",
       "      <th></th>\n",
       "      <th>db_id</th>\n",
       "      <th>query</th>\n",
       "      <th>question</th>\n",
       "    </tr>\n",
       "  </thead>\n",
       "  <tbody>\n",
       "    <tr>\n",
       "      <th>0</th>\n",
       "      <td>department_management</td>\n",
       "      <td>SELECT count(*) FROM head WHERE age  &gt;  56</td>\n",
       "      <td>How many heads of the departments are older th...</td>\n",
       "    </tr>\n",
       "    <tr>\n",
       "      <th>1</th>\n",
       "      <td>department_management</td>\n",
       "      <td>SELECT name ,  born_state ,  age FROM head ORD...</td>\n",
       "      <td>List the name, born state and age of the heads...</td>\n",
       "    </tr>\n",
       "    <tr>\n",
       "      <th>2</th>\n",
       "      <td>department_management</td>\n",
       "      <td>SELECT creation ,  name ,  budget_in_billions ...</td>\n",
       "      <td>List the creation year, name and budget of eac...</td>\n",
       "    </tr>\n",
       "    <tr>\n",
       "      <th>3</th>\n",
       "      <td>department_management</td>\n",
       "      <td>SELECT max(budget_in_billions) ,  min(budget_i...</td>\n",
       "      <td>What are the maximum and minimum budget of the...</td>\n",
       "    </tr>\n",
       "    <tr>\n",
       "      <th>4</th>\n",
       "      <td>department_management</td>\n",
       "      <td>SELECT avg(num_employees) FROM department WHER...</td>\n",
       "      <td>What is the average number of employees of the...</td>\n",
       "    </tr>\n",
       "  </tbody>\n",
       "</table>\n",
       "</div>"
      ],
      "text/plain": [
       "                   db_id                                              query  \\\n",
       "0  department_management         SELECT count(*) FROM head WHERE age  >  56   \n",
       "1  department_management  SELECT name ,  born_state ,  age FROM head ORD...   \n",
       "2  department_management  SELECT creation ,  name ,  budget_in_billions ...   \n",
       "3  department_management  SELECT max(budget_in_billions) ,  min(budget_i...   \n",
       "4  department_management  SELECT avg(num_employees) FROM department WHER...   \n",
       "\n",
       "                                            question  \n",
       "0  How many heads of the departments are older th...  \n",
       "1  List the name, born state and age of the heads...  \n",
       "2  List the creation year, name and budget of eac...  \n",
       "3  What are the maximum and minimum budget of the...  \n",
       "4  What is the average number of employees of the...  "
      ]
     },
     "execution_count": 26,
     "metadata": {},
     "output_type": "execute_result"
    }
   ],
   "source": [
    "file_path = '/Users/vedanttibrewal/Documents/USC/lectures/sem_1/DSCI-551/project/chatDB-dsci551/dataset/train_spider.json'\n",
    "train_spider = spider_json_to_pandas(file_path)\n",
    "\n",
    "train_spider.head()"
   ]
  },
  {
   "cell_type": "code",
   "execution_count": null,
   "metadata": {},
   "outputs": [
    {
     "name": "stdout",
     "output_type": "stream",
     "text": [
      "(8659, 3)\n",
      "(8651, 3)\n"
     ]
    }
   ],
   "source": [
    "final_train = pd.concat([train_spider, spider_train_other], ignore_index=True)\n",
    "print(final_train.shape)\n",
    "final_train = final_train.drop_duplicates()\n",
    "print(final_train.shape)\n",
    "save_path = '/Users/vedanttibrewal/Documents/USC/lectures/sem_1/DSCI-551/project/chatDB-dsci551/dataset/'\n",
    "\n",
    "final_train.to_csv(f\"{save_path}train.csv\")"
   ]
  },
  {
   "cell_type": "markdown",
   "metadata": {},
   "source": [
    "## Test"
   ]
  },
  {
   "cell_type": "code",
   "execution_count": 30,
   "metadata": {},
   "outputs": [
    {
     "data": {
      "text/html": [
       "<div>\n",
       "<style scoped>\n",
       "    .dataframe tbody tr th:only-of-type {\n",
       "        vertical-align: middle;\n",
       "    }\n",
       "\n",
       "    .dataframe tbody tr th {\n",
       "        vertical-align: top;\n",
       "    }\n",
       "\n",
       "    .dataframe thead th {\n",
       "        text-align: right;\n",
       "    }\n",
       "</style>\n",
       "<table border=\"1\" class=\"dataframe\">\n",
       "  <thead>\n",
       "    <tr style=\"text-align: right;\">\n",
       "      <th></th>\n",
       "      <th>db_id</th>\n",
       "      <th>query</th>\n",
       "      <th>question</th>\n",
       "    </tr>\n",
       "  </thead>\n",
       "  <tbody>\n",
       "    <tr>\n",
       "      <th>0</th>\n",
       "      <td>soccer_3</td>\n",
       "      <td>SELECT count(*) FROM club</td>\n",
       "      <td>How many clubs are there?</td>\n",
       "    </tr>\n",
       "    <tr>\n",
       "      <th>1</th>\n",
       "      <td>soccer_3</td>\n",
       "      <td>SELECT count(*) FROM club</td>\n",
       "      <td>Count the number of clubs.</td>\n",
       "    </tr>\n",
       "    <tr>\n",
       "      <th>2</th>\n",
       "      <td>soccer_3</td>\n",
       "      <td>SELECT Name FROM club ORDER BY Name ASC</td>\n",
       "      <td>List the name of clubs in ascending alphabetic...</td>\n",
       "    </tr>\n",
       "    <tr>\n",
       "      <th>3</th>\n",
       "      <td>soccer_3</td>\n",
       "      <td>SELECT Name FROM club ORDER BY Name ASC</td>\n",
       "      <td>What are the names of clubs, ordered alphabeti...</td>\n",
       "    </tr>\n",
       "    <tr>\n",
       "      <th>4</th>\n",
       "      <td>soccer_3</td>\n",
       "      <td>SELECT Manager ,  Captain FROM club</td>\n",
       "      <td>What are the managers and captains of clubs?</td>\n",
       "    </tr>\n",
       "  </tbody>\n",
       "</table>\n",
       "</div>"
      ],
      "text/plain": [
       "      db_id                                    query  \\\n",
       "0  soccer_3                SELECT count(*) FROM club   \n",
       "1  soccer_3                SELECT count(*) FROM club   \n",
       "2  soccer_3  SELECT Name FROM club ORDER BY Name ASC   \n",
       "3  soccer_3  SELECT Name FROM club ORDER BY Name ASC   \n",
       "4  soccer_3      SELECT Manager ,  Captain FROM club   \n",
       "\n",
       "                                            question  \n",
       "0                          How many clubs are there?  \n",
       "1                         Count the number of clubs.  \n",
       "2  List the name of clubs in ascending alphabetic...  \n",
       "3  What are the names of clubs, ordered alphabeti...  \n",
       "4       What are the managers and captains of clubs?  "
      ]
     },
     "execution_count": 30,
     "metadata": {},
     "output_type": "execute_result"
    }
   ],
   "source": [
    "file_path = '/Users/vedanttibrewal/Documents/USC/lectures/sem_1/DSCI-551/project/chatDB-dsci551/dataset/test.json'\n",
    "test_spider = spider_json_to_pandas(file_path)\n",
    "\n",
    "test_spider.head()"
   ]
  },
  {
   "cell_type": "code",
   "execution_count": 33,
   "metadata": {},
   "outputs": [
    {
     "name": "stdout",
     "output_type": "stream",
     "text": [
      "(2147, 3)\n",
      "(2147, 3)\n"
     ]
    }
   ],
   "source": [
    "print(test_spider.shape)\n",
    "test_spider = test_spider.drop_duplicates()\n",
    "print(test_spider.shape)\n",
    "save_path = '/Users/vedanttibrewal/Documents/USC/lectures/sem_1/DSCI-551/project/chatDB-dsci551/dataset/'\n",
    "\n",
    "test_spider.to_csv(f\"{save_path}test.csv\")"
   ]
  },
  {
   "cell_type": "markdown",
   "metadata": {},
   "source": [
    "## Validation"
   ]
  },
  {
   "cell_type": "code",
   "execution_count": 35,
   "metadata": {},
   "outputs": [
    {
     "data": {
      "text/html": [
       "<div>\n",
       "<style scoped>\n",
       "    .dataframe tbody tr th:only-of-type {\n",
       "        vertical-align: middle;\n",
       "    }\n",
       "\n",
       "    .dataframe tbody tr th {\n",
       "        vertical-align: top;\n",
       "    }\n",
       "\n",
       "    .dataframe thead th {\n",
       "        text-align: right;\n",
       "    }\n",
       "</style>\n",
       "<table border=\"1\" class=\"dataframe\">\n",
       "  <thead>\n",
       "    <tr style=\"text-align: right;\">\n",
       "      <th></th>\n",
       "      <th>db_id</th>\n",
       "      <th>query</th>\n",
       "      <th>question</th>\n",
       "    </tr>\n",
       "  </thead>\n",
       "  <tbody>\n",
       "    <tr>\n",
       "      <th>0</th>\n",
       "      <td>concert_singer</td>\n",
       "      <td>SELECT count(*) FROM singer</td>\n",
       "      <td>How many singers do we have?</td>\n",
       "    </tr>\n",
       "    <tr>\n",
       "      <th>1</th>\n",
       "      <td>concert_singer</td>\n",
       "      <td>SELECT count(*) FROM singer</td>\n",
       "      <td>What is the total number of singers?</td>\n",
       "    </tr>\n",
       "    <tr>\n",
       "      <th>2</th>\n",
       "      <td>concert_singer</td>\n",
       "      <td>SELECT name ,  country ,  age FROM singer ORDE...</td>\n",
       "      <td>Show name, country, age for all singers ordere...</td>\n",
       "    </tr>\n",
       "    <tr>\n",
       "      <th>3</th>\n",
       "      <td>concert_singer</td>\n",
       "      <td>SELECT name ,  country ,  age FROM singer ORDE...</td>\n",
       "      <td>What are the names, countries, and ages for ev...</td>\n",
       "    </tr>\n",
       "    <tr>\n",
       "      <th>4</th>\n",
       "      <td>concert_singer</td>\n",
       "      <td>SELECT avg(age) ,  min(age) ,  max(age) FROM s...</td>\n",
       "      <td>What is the average, minimum, and maximum age ...</td>\n",
       "    </tr>\n",
       "  </tbody>\n",
       "</table>\n",
       "</div>"
      ],
      "text/plain": [
       "            db_id                                              query  \\\n",
       "0  concert_singer                        SELECT count(*) FROM singer   \n",
       "1  concert_singer                        SELECT count(*) FROM singer   \n",
       "2  concert_singer  SELECT name ,  country ,  age FROM singer ORDE...   \n",
       "3  concert_singer  SELECT name ,  country ,  age FROM singer ORDE...   \n",
       "4  concert_singer  SELECT avg(age) ,  min(age) ,  max(age) FROM s...   \n",
       "\n",
       "                                            question  \n",
       "0                       How many singers do we have?  \n",
       "1               What is the total number of singers?  \n",
       "2  Show name, country, age for all singers ordere...  \n",
       "3  What are the names, countries, and ages for ev...  \n",
       "4  What is the average, minimum, and maximum age ...  "
      ]
     },
     "execution_count": 35,
     "metadata": {},
     "output_type": "execute_result"
    }
   ],
   "source": [
    "file_path = '/Users/vedanttibrewal/Documents/USC/lectures/sem_1/DSCI-551/project/chatDB-dsci551/dataset/dev.json'\n",
    "val_spider = spider_json_to_pandas(file_path)\n",
    "\n",
    "val_spider.head()"
   ]
  },
  {
   "cell_type": "code",
   "execution_count": 36,
   "metadata": {},
   "outputs": [
    {
     "name": "stdout",
     "output_type": "stream",
     "text": [
      "(1034, 3)\n",
      "(1034, 3)\n"
     ]
    }
   ],
   "source": [
    "print(val_spider.shape)\n",
    "val_spider = val_spider.drop_duplicates()\n",
    "print(val_spider.shape)\n",
    "save_path = '/Users/vedanttibrewal/Documents/USC/lectures/sem_1/DSCI-551/project/chatDB-dsci551/dataset/'\n",
    "\n",
    "val_spider.to_csv(f\"{save_path}validation.csv\")"
   ]
  },
  {
   "cell_type": "code",
   "execution_count": null,
   "metadata": {},
   "outputs": [],
   "source": []
  }
 ],
 "metadata": {
  "kernelspec": {
   "display_name": "chatdb",
   "language": "python",
   "name": "python3"
  },
  "language_info": {
   "codemirror_mode": {
    "name": "ipython",
    "version": 3
   },
   "file_extension": ".py",
   "mimetype": "text/x-python",
   "name": "python",
   "nbconvert_exporter": "python",
   "pygments_lexer": "ipython3",
   "version": "3.12.5"
  }
 },
 "nbformat": 4,
 "nbformat_minor": 2
}
